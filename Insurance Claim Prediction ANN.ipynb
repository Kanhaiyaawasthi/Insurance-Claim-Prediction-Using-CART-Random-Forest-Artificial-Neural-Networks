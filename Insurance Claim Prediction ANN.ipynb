{
 "cells": [
  {
   "cell_type": "markdown",
   "metadata": {
    "colab_type": "text",
    "id": "DKrA1xvVpW8x"
   },
   "source": [
    "# Problem 2: CART-RF-ANN (REMAINIG PART - ANN MODAL BUILDING AND PERFORMACE CHECK)\n",
    "\n",
    "An Insurance firm providing tour insurance is facing higher claim frequency. The management decides to collect data from the past few years. You are assigned the task to make a model which predicts the claim status and provide recommendations to management. Use CART, RF & ANN and compare the models' performances in train and test sets.\n",
    "\n",
    "2.1 Data Ingestion: Read the dataset. Do the descriptive statistics and do null value condition check, write an inference on it.\n",
    "\n",
    "2.2 Data Split: Split the data into test and train, build classification model CART, Random Forest, Artificial Neural Network\n",
    "\n",
    "2.3 Performance Metrics: Check the performance of Predictions on Train and Test sets using Accuracy, Confusion Matrix, Plot ROC curve and get ROC_AUC score for each model\n",
    "\n",
    "2.4 Final Model: Compare all the model and write an inference which model is best/optimized.\n",
    "\n",
    "2.5 Inference: Based on the whole Analysis, what are the business insights and recommendations\n",
    "\n",
    "Dataset for Problem 2: insurance_part2_data-1.csv\n",
    "\n"
   ]
  },
  {
   "cell_type": "markdown",
   "metadata": {
    "colab_type": "text",
    "id": "kCs94O-bpW84"
   },
   "source": [
    "\n",
    "# Data Dictionary\n",
    "\n",
    "1. Target: Claim Status (Claimed)\n",
    "\n",
    "2. Code of tour firm (Agency_Code)\n",
    "\n",
    "3. Type of tour insurance firms (Type)\n",
    "\n",
    "4. Distribution channel of tour insurance agencies (Channel)\n",
    "\n",
    "5. Name of the tour insurance products (Product)\n",
    "\n",
    "6. Duration of the tour (Duration)\n",
    "\n",
    "7. Destination of the tour (Destination)\n",
    "\n",
    "8. Amount of sales of tour insurance policies (Sales)\n",
    "\n",
    "9. The commission received for tour insurance firm (Commission)\n",
    "\n",
    "10. Age of insured (Age)"
   ]
  },
  {
   "cell_type": "markdown",
   "metadata": {
    "colab_type": "text",
    "id": "JCaG_FXPpW86"
   },
   "source": [
    "## Load library and import data"
   ]
  },
  {
   "cell_type": "code",
   "execution_count": 5,
   "metadata": {
    "ExecuteTime": {
     "end_time": "2021-01-20T14:04:40.924687Z",
     "start_time": "2021-01-20T14:04:38.716505Z"
    },
    "colab": {},
    "colab_type": "code",
    "id": "BXv1BtsvpW8-"
   },
   "outputs": [],
   "source": [
    "import pandas as pd\n",
    "import numpy as np\n",
    "import matplotlib.pyplot as plt\n",
    "import seaborn as sns\n",
    "from sklearn.neural_network import MLPClassifier\n",
    "import warnings\n",
    "warnings.filterwarnings('ignore')\n",
    "plt.style.use('fivethirtyeight')"
   ]
  },
  {
   "cell_type": "code",
   "execution_count": 35,
   "metadata": {
    "ExecuteTime": {
     "end_time": "2021-01-20T14:04:41.968124Z",
     "start_time": "2021-01-20T14:04:41.931193Z"
    },
    "colab": {},
    "colab_type": "code",
    "id": "YbsmpnoYpW9I"
   },
   "outputs": [],
   "source": [
    "ins_df=pd.read_csv(\"insurance_part2_data.csv\")"
   ]
  },
  {
   "cell_type": "markdown",
   "metadata": {
    "colab_type": "text",
    "id": "tvmO7OyjpW9S"
   },
   "source": [
    "## Inspect the data"
   ]
  },
  {
   "cell_type": "code",
   "execution_count": 36,
   "metadata": {
    "ExecuteTime": {
     "end_time": "2021-01-20T14:04:44.146974Z",
     "start_time": "2021-01-20T14:04:44.120048Z"
    },
    "colab": {},
    "colab_type": "code",
    "id": "D7anZXpTpW9U",
    "outputId": "0e1da28f-f6e4-4d63-bd7f-2b4f2c5e01b2"
   },
   "outputs": [
    {
     "data": {
      "text/html": [
       "<div>\n",
       "<style scoped>\n",
       "    .dataframe tbody tr th:only-of-type {\n",
       "        vertical-align: middle;\n",
       "    }\n",
       "\n",
       "    .dataframe tbody tr th {\n",
       "        vertical-align: top;\n",
       "    }\n",
       "\n",
       "    .dataframe thead th {\n",
       "        text-align: right;\n",
       "    }\n",
       "</style>\n",
       "<table border=\"1\" class=\"dataframe\">\n",
       "  <thead>\n",
       "    <tr style=\"text-align: right;\">\n",
       "      <th></th>\n",
       "      <th>Age</th>\n",
       "      <th>Agency_Code</th>\n",
       "      <th>Type</th>\n",
       "      <th>Claimed</th>\n",
       "      <th>Commision</th>\n",
       "      <th>Channel</th>\n",
       "      <th>Duration</th>\n",
       "      <th>Sales</th>\n",
       "      <th>Product Name</th>\n",
       "      <th>Destination</th>\n",
       "    </tr>\n",
       "  </thead>\n",
       "  <tbody>\n",
       "    <tr>\n",
       "      <th>0</th>\n",
       "      <td>48</td>\n",
       "      <td>C2B</td>\n",
       "      <td>Airlines</td>\n",
       "      <td>No</td>\n",
       "      <td>0.70</td>\n",
       "      <td>Online</td>\n",
       "      <td>7</td>\n",
       "      <td>2.51</td>\n",
       "      <td>Customised Plan</td>\n",
       "      <td>ASIA</td>\n",
       "    </tr>\n",
       "    <tr>\n",
       "      <th>1</th>\n",
       "      <td>36</td>\n",
       "      <td>EPX</td>\n",
       "      <td>Travel Agency</td>\n",
       "      <td>No</td>\n",
       "      <td>0.00</td>\n",
       "      <td>Online</td>\n",
       "      <td>34</td>\n",
       "      <td>20.00</td>\n",
       "      <td>Customised Plan</td>\n",
       "      <td>ASIA</td>\n",
       "    </tr>\n",
       "    <tr>\n",
       "      <th>2</th>\n",
       "      <td>39</td>\n",
       "      <td>CWT</td>\n",
       "      <td>Travel Agency</td>\n",
       "      <td>No</td>\n",
       "      <td>5.94</td>\n",
       "      <td>Online</td>\n",
       "      <td>3</td>\n",
       "      <td>9.90</td>\n",
       "      <td>Customised Plan</td>\n",
       "      <td>Americas</td>\n",
       "    </tr>\n",
       "    <tr>\n",
       "      <th>3</th>\n",
       "      <td>36</td>\n",
       "      <td>EPX</td>\n",
       "      <td>Travel Agency</td>\n",
       "      <td>No</td>\n",
       "      <td>0.00</td>\n",
       "      <td>Online</td>\n",
       "      <td>4</td>\n",
       "      <td>26.00</td>\n",
       "      <td>Cancellation Plan</td>\n",
       "      <td>ASIA</td>\n",
       "    </tr>\n",
       "    <tr>\n",
       "      <th>4</th>\n",
       "      <td>33</td>\n",
       "      <td>JZI</td>\n",
       "      <td>Airlines</td>\n",
       "      <td>No</td>\n",
       "      <td>6.30</td>\n",
       "      <td>Online</td>\n",
       "      <td>53</td>\n",
       "      <td>18.00</td>\n",
       "      <td>Bronze Plan</td>\n",
       "      <td>ASIA</td>\n",
       "    </tr>\n",
       "  </tbody>\n",
       "</table>\n",
       "</div>"
      ],
      "text/plain": [
       "   Age Agency_Code           Type Claimed  Commision Channel  Duration  Sales  \\\n",
       "0   48         C2B       Airlines      No       0.70  Online         7   2.51   \n",
       "1   36         EPX  Travel Agency      No       0.00  Online        34  20.00   \n",
       "2   39         CWT  Travel Agency      No       5.94  Online         3   9.90   \n",
       "3   36         EPX  Travel Agency      No       0.00  Online         4  26.00   \n",
       "4   33         JZI       Airlines      No       6.30  Online        53  18.00   \n",
       "\n",
       "        Product Name Destination  \n",
       "0    Customised Plan        ASIA  \n",
       "1    Customised Plan        ASIA  \n",
       "2    Customised Plan    Americas  \n",
       "3  Cancellation Plan        ASIA  \n",
       "4        Bronze Plan        ASIA  "
      ]
     },
     "execution_count": 36,
     "metadata": {},
     "output_type": "execute_result"
    }
   ],
   "source": [
    "ins_df.head()"
   ]
  },
  {
   "cell_type": "code",
   "execution_count": 37,
   "metadata": {
    "ExecuteTime": {
     "end_time": "2021-01-20T14:04:45.227117Z",
     "start_time": "2021-01-20T14:04:45.200188Z"
    },
    "colab": {},
    "colab_type": "code",
    "id": "wv5SRWCJpW9h",
    "outputId": "e9b78b91-8db4-4878-ff42-2a4ed9f9a29b"
   },
   "outputs": [
    {
     "name": "stdout",
     "output_type": "stream",
     "text": [
      "<class 'pandas.core.frame.DataFrame'>\n",
      "RangeIndex: 3000 entries, 0 to 2999\n",
      "Data columns (total 10 columns):\n",
      " #   Column        Non-Null Count  Dtype  \n",
      "---  ------        --------------  -----  \n",
      " 0   Age           3000 non-null   int64  \n",
      " 1   Agency_Code   3000 non-null   object \n",
      " 2   Type          3000 non-null   object \n",
      " 3   Claimed       3000 non-null   object \n",
      " 4   Commision     3000 non-null   float64\n",
      " 5   Channel       3000 non-null   object \n",
      " 6   Duration      3000 non-null   int64  \n",
      " 7   Sales         3000 non-null   float64\n",
      " 8   Product Name  3000 non-null   object \n",
      " 9   Destination   3000 non-null   object \n",
      "dtypes: float64(2), int64(2), object(6)\n",
      "memory usage: 234.5+ KB\n"
     ]
    }
   ],
   "source": [
    "ins_df.info()"
   ]
  },
  {
   "cell_type": "markdown",
   "metadata": {
    "colab_type": "text",
    "id": "6XOZhI2ApW9q"
   },
   "source": [
    "# Converting all Object data Types into Numerical"
   ]
  },
  {
   "cell_type": "code",
   "execution_count": 38,
   "metadata": {
    "scrolled": true
   },
   "outputs": [
    {
     "name": "stdout",
     "output_type": "stream",
     "text": [
      "Age \n",
      " 36    999\n",
      "31    125\n",
      "48    108\n",
      "30     96\n",
      "35     94\n",
      "     ... \n",
      "11      1\n",
      "84      1\n",
      "15      1\n",
      "77      1\n",
      "8       1\n",
      "Name: Age, Length: 70, dtype: int64\n",
      "\n",
      "\n",
      "Agency_Code \n",
      " EPX    1365\n",
      "C2B     924\n",
      "CWT     472\n",
      "JZI     239\n",
      "Name: Agency_Code, dtype: int64\n",
      "\n",
      "\n",
      "Type \n",
      " Travel Agency    1837\n",
      "Airlines         1163\n",
      "Name: Type, dtype: int64\n",
      "\n",
      "\n",
      "Claimed \n",
      " No     2076\n",
      "Yes     924\n",
      "Name: Claimed, dtype: int64\n",
      "\n",
      "\n",
      "Commision \n",
      " 0.00     1366\n",
      "63.21      62\n",
      "54.00      61\n",
      "23.76      61\n",
      "7.70       57\n",
      "         ... \n",
      "67.75       1\n",
      "17.29       1\n",
      "18.13       1\n",
      "49.40       1\n",
      "0.18        1\n",
      "Name: Commision, Length: 324, dtype: int64\n",
      "\n",
      "\n",
      "Channel \n",
      " Online     2954\n",
      "Offline      46\n",
      "Name: Channel, dtype: int64\n",
      "\n",
      "\n",
      "Duration \n",
      "  8       83\n",
      " 5       82\n",
      " 6       81\n",
      " 10      81\n",
      " 11      81\n",
      "         ..\n",
      " 466      1\n",
      " 421      1\n",
      "-1        1\n",
      " 119      1\n",
      " 4580     1\n",
      "Name: Duration, Length: 257, dtype: int64\n",
      "\n",
      "\n",
      "Sales \n",
      " 20.00     225\n",
      "10.00     163\n",
      "22.00      79\n",
      "252.85     60\n",
      "216.00     59\n",
      "         ... \n",
      "199.00      1\n",
      "177.00      1\n",
      "171.00      1\n",
      "206.60      1\n",
      "271.00      1\n",
      "Name: Sales, Length: 380, dtype: int64\n",
      "\n",
      "\n",
      "Product Name \n",
      " Customised Plan      1136\n",
      "Cancellation Plan     678\n",
      "Bronze Plan           650\n",
      "Silver Plan           427\n",
      "Gold Plan             109\n",
      "Name: Product Name, dtype: int64\n",
      "\n",
      "\n",
      "Destination \n",
      " ASIA        2465\n",
      "Americas     320\n",
      "EUROPE       215\n",
      "Name: Destination, dtype: int64\n"
     ]
    }
   ],
   "source": [
    "print('Age \\n',ins_df.Age.value_counts())\n",
    "print('\\n')\n",
    "print('Agency_Code \\n',ins_df.Agency_Code.value_counts())\n",
    "print('\\n')\n",
    "print('Type \\n',ins_df.Type.value_counts())\n",
    "print('\\n')\n",
    "print('Claimed \\n',ins_df.Claimed.value_counts())\n",
    "print('\\n')\n",
    "print('Commision \\n',ins_df.Commision.value_counts())\n",
    "print('\\n')\n",
    "print('Channel \\n',ins_df.Channel.value_counts())\n",
    "print('\\n')\n",
    "print('Duration \\n',ins_df.Duration.value_counts())\n",
    "print('\\n')\n",
    "print('Sales \\n',ins_df.Sales.value_counts())\n",
    "print('\\n')\n",
    "print('Product Name \\n',ins_df[\"Product Name\"].value_counts())\n",
    "print('\\n')\n",
    "print('Destination \\n',ins_df.Destination.value_counts())"
   ]
  },
  {
   "cell_type": "code",
   "execution_count": 39,
   "metadata": {},
   "outputs": [
    {
     "data": {
      "text/plain": [
       "Index(['Age', 'Agency_Code', 'Type', 'Claimed', 'Commision', 'Channel',\n",
       "       'Duration', 'Sales', 'Product Name', 'Destination'],\n",
       "      dtype='object')"
      ]
     },
     "execution_count": 39,
     "metadata": {},
     "output_type": "execute_result"
    }
   ],
   "source": [
    "ins_df.columns"
   ]
  },
  {
   "cell_type": "code",
   "execution_count": 40,
   "metadata": {
    "ExecuteTime": {
     "end_time": "2021-01-20T14:04:57.521457Z",
     "start_time": "2021-01-20T14:04:57.507462Z"
    },
    "colab": {},
    "colab_type": "code",
    "id": "zTPnGIYnpW-G",
    "outputId": "7e269397-88c3-47ba-9805-47a9d6818bb9"
   },
   "outputs": [
    {
     "data": {
      "text/plain": [
       "(3000, 10)"
      ]
     },
     "execution_count": 40,
     "metadata": {},
     "output_type": "execute_result"
    }
   ],
   "source": [
    "ins_df.shape"
   ]
  },
  {
   "cell_type": "markdown",
   "metadata": {
    "colab_type": "text",
    "id": "ugUjHWO5pW-N"
   },
   "source": [
    "## Proportion of observations in Target classes"
   ]
  },
  {
   "cell_type": "code",
   "execution_count": 41,
   "metadata": {
    "ExecuteTime": {
     "end_time": "2021-01-20T14:05:01.692165Z",
     "start_time": "2021-01-20T14:05:01.676664Z"
    },
    "colab": {},
    "colab_type": "code",
    "id": "2B0O5S4ppW-O",
    "outputId": "afef1159-d1c2-4fe4-885e-7127e5318a2b"
   },
   "outputs": [
    {
     "name": "stdout",
     "output_type": "stream",
     "text": [
      "No     0.692\n",
      "Yes    0.308\n",
      "Name: Claimed, dtype: float64\n",
      "%0s 2076 \n",
      " %1s 924\n"
     ]
    }
   ],
   "source": [
    "# Get the proportions\n",
    "print(ins_df.Claimed.value_counts(normalize=True))\n",
    "print('%0s',ins_df.Claimed.value_counts()[0],'\\n','%1s',ins_df.Claimed.value_counts()[1])"
   ]
  },
  {
   "cell_type": "markdown",
   "metadata": {
    "colab_type": "text",
    "id": "guHMFugZpXAs"
   },
   "source": [
    "# Train Test Split"
   ]
  },
  {
   "cell_type": "code",
   "execution_count": 42,
   "metadata": {
    "ExecuteTime": {
     "end_time": "2021-01-20T14:09:03.634111Z",
     "start_time": "2021-01-20T14:09:03.628095Z"
    },
    "colab": {},
    "colab_type": "code",
    "id": "UhnI2ztOpXAs"
   },
   "outputs": [],
   "source": [
    "from sklearn.model_selection import train_test_split"
   ]
  },
  {
   "cell_type": "code",
   "execution_count": 43,
   "metadata": {},
   "outputs": [
    {
     "name": "stdout",
     "output_type": "stream",
     "text": [
      "\n",
      "\n",
      "feature: Agency_Code\n",
      "[C2B, EPX, CWT, JZI]\n",
      "Categories (4, object): [C2B, CWT, EPX, JZI]\n",
      "[0 2 1 3]\n",
      "\n",
      "\n",
      "feature: Type\n",
      "[Airlines, Travel Agency]\n",
      "Categories (2, object): [Airlines, Travel Agency]\n",
      "[0 1]\n",
      "\n",
      "\n",
      "feature: Claimed\n",
      "[No, Yes]\n",
      "Categories (2, object): [No, Yes]\n",
      "[0 1]\n",
      "\n",
      "\n",
      "feature: Channel\n",
      "[Online, Offline]\n",
      "Categories (2, object): [Offline, Online]\n",
      "[1 0]\n",
      "\n",
      "\n",
      "feature: Product Name\n",
      "[Customised Plan, Cancellation Plan, Bronze Plan, Silver Plan, Gold Plan]\n",
      "Categories (5, object): [Bronze Plan, Cancellation Plan, Customised Plan, Gold Plan, Silver Plan]\n",
      "[2 1 0 4 3]\n",
      "\n",
      "\n",
      "feature: Destination\n",
      "[ASIA, Americas, EUROPE]\n",
      "Categories (3, object): [ASIA, Americas, EUROPE]\n",
      "[0 1 2]\n"
     ]
    }
   ],
   "source": [
    "for feature in ins_df.columns: \n",
    "    if ins_df[feature].dtype == 'object': \n",
    "        print('\\n')\n",
    "        print('feature:',feature)\n",
    "        print(pd.Categorical(ins_df[feature].unique()))\n",
    "        print(pd.Categorical(ins_df[feature].unique()).codes)\n",
    "        ins_df[feature] = pd.Categorical(ins_df[feature]).codes"
   ]
  },
  {
   "cell_type": "code",
   "execution_count": 44,
   "metadata": {},
   "outputs": [
    {
     "name": "stdout",
     "output_type": "stream",
     "text": [
      "Age \n",
      " 36    999\n",
      "31    125\n",
      "48    108\n",
      "30     96\n",
      "35     94\n",
      "     ... \n",
      "11      1\n",
      "84      1\n",
      "15      1\n",
      "77      1\n",
      "8       1\n",
      "Name: Age, Length: 70, dtype: int64\n",
      "\n",
      "\n",
      "Agency_Code \n",
      " 2    1365\n",
      "0     924\n",
      "1     472\n",
      "3     239\n",
      "Name: Agency_Code, dtype: int64\n",
      "\n",
      "\n",
      "Type \n",
      " 1    1837\n",
      "0    1163\n",
      "Name: Type, dtype: int64\n",
      "\n",
      "\n",
      "Claimed \n",
      " 0    2076\n",
      "1     924\n",
      "Name: Claimed, dtype: int64\n",
      "\n",
      "\n",
      "Commision \n",
      " 0.00     1366\n",
      "63.21      62\n",
      "54.00      61\n",
      "23.76      61\n",
      "7.70       57\n",
      "         ... \n",
      "67.75       1\n",
      "17.29       1\n",
      "18.13       1\n",
      "49.40       1\n",
      "0.18        1\n",
      "Name: Commision, Length: 324, dtype: int64\n",
      "\n",
      "\n",
      "Channel \n",
      " 1    2954\n",
      "0      46\n",
      "Name: Channel, dtype: int64\n",
      "\n",
      "\n",
      "Duration \n",
      "  8       83\n",
      " 5       82\n",
      " 6       81\n",
      " 10      81\n",
      " 11      81\n",
      "         ..\n",
      " 466      1\n",
      " 421      1\n",
      "-1        1\n",
      " 119      1\n",
      " 4580     1\n",
      "Name: Duration, Length: 257, dtype: int64\n",
      "\n",
      "\n",
      "Sales \n",
      " 20.00     225\n",
      "10.00     163\n",
      "22.00      79\n",
      "252.85     60\n",
      "216.00     59\n",
      "         ... \n",
      "199.00      1\n",
      "177.00      1\n",
      "171.00      1\n",
      "206.60      1\n",
      "271.00      1\n",
      "Name: Sales, Length: 380, dtype: int64\n",
      "\n",
      "\n",
      "Product Name \n",
      " 2    1136\n",
      "1     678\n",
      "0     650\n",
      "4     427\n",
      "3     109\n",
      "Name: Product Name, dtype: int64\n",
      "\n",
      "\n",
      "Destination \n",
      " 0    2465\n",
      "1     320\n",
      "2     215\n",
      "Name: Destination, dtype: int64\n"
     ]
    }
   ],
   "source": [
    "print('Age \\n',ins_df.Age.value_counts())\n",
    "print('\\n')\n",
    "print('Agency_Code \\n',ins_df.Agency_Code.value_counts())\n",
    "print('\\n')\n",
    "print('Type \\n',ins_df.Type.value_counts())\n",
    "print('\\n')\n",
    "print('Claimed \\n',ins_df.Claimed.value_counts())\n",
    "print('\\n')\n",
    "print('Commision \\n',ins_df.Commision.value_counts())\n",
    "print('\\n')\n",
    "print('Channel \\n',ins_df.Channel.value_counts())\n",
    "print('\\n')\n",
    "print('Duration \\n',ins_df.Duration.value_counts())\n",
    "print('\\n')\n",
    "print('Sales \\n',ins_df.Sales.value_counts())\n",
    "print('\\n')\n",
    "print('Product Name \\n',ins_df[\"Product Name\"].value_counts())\n",
    "print('\\n')\n",
    "print('Destination \\n',ins_df.Destination.value_counts())"
   ]
  },
  {
   "cell_type": "code",
   "execution_count": 45,
   "metadata": {},
   "outputs": [
    {
     "name": "stdout",
     "output_type": "stream",
     "text": [
      "<class 'pandas.core.frame.DataFrame'>\n",
      "RangeIndex: 3000 entries, 0 to 2999\n",
      "Data columns (total 10 columns):\n",
      " #   Column        Non-Null Count  Dtype  \n",
      "---  ------        --------------  -----  \n",
      " 0   Age           3000 non-null   int64  \n",
      " 1   Agency_Code   3000 non-null   int8   \n",
      " 2   Type          3000 non-null   int8   \n",
      " 3   Claimed       3000 non-null   int8   \n",
      " 4   Commision     3000 non-null   float64\n",
      " 5   Channel       3000 non-null   int8   \n",
      " 6   Duration      3000 non-null   int64  \n",
      " 7   Sales         3000 non-null   float64\n",
      " 8   Product Name  3000 non-null   int8   \n",
      " 9   Destination   3000 non-null   int8   \n",
      "dtypes: float64(2), int64(2), int8(6)\n",
      "memory usage: 111.5 KB\n"
     ]
    }
   ],
   "source": [
    "ins_df.info()"
   ]
  },
  {
   "cell_type": "code",
   "execution_count": 46,
   "metadata": {},
   "outputs": [
    {
     "data": {
      "text/html": [
       "<div>\n",
       "<style scoped>\n",
       "    .dataframe tbody tr th:only-of-type {\n",
       "        vertical-align: middle;\n",
       "    }\n",
       "\n",
       "    .dataframe tbody tr th {\n",
       "        vertical-align: top;\n",
       "    }\n",
       "\n",
       "    .dataframe thead th {\n",
       "        text-align: right;\n",
       "    }\n",
       "</style>\n",
       "<table border=\"1\" class=\"dataframe\">\n",
       "  <thead>\n",
       "    <tr style=\"text-align: right;\">\n",
       "      <th></th>\n",
       "      <th>Age</th>\n",
       "      <th>Agency_Code</th>\n",
       "      <th>Type</th>\n",
       "      <th>Claimed</th>\n",
       "      <th>Commision</th>\n",
       "      <th>Channel</th>\n",
       "      <th>Duration</th>\n",
       "      <th>Sales</th>\n",
       "      <th>Product Name</th>\n",
       "      <th>Destination</th>\n",
       "    </tr>\n",
       "  </thead>\n",
       "  <tbody>\n",
       "    <tr>\n",
       "      <th>0</th>\n",
       "      <td>48</td>\n",
       "      <td>0</td>\n",
       "      <td>0</td>\n",
       "      <td>0</td>\n",
       "      <td>0.70</td>\n",
       "      <td>1</td>\n",
       "      <td>7</td>\n",
       "      <td>2.51</td>\n",
       "      <td>2</td>\n",
       "      <td>0</td>\n",
       "    </tr>\n",
       "    <tr>\n",
       "      <th>1</th>\n",
       "      <td>36</td>\n",
       "      <td>2</td>\n",
       "      <td>1</td>\n",
       "      <td>0</td>\n",
       "      <td>0.00</td>\n",
       "      <td>1</td>\n",
       "      <td>34</td>\n",
       "      <td>20.00</td>\n",
       "      <td>2</td>\n",
       "      <td>0</td>\n",
       "    </tr>\n",
       "    <tr>\n",
       "      <th>2</th>\n",
       "      <td>39</td>\n",
       "      <td>1</td>\n",
       "      <td>1</td>\n",
       "      <td>0</td>\n",
       "      <td>5.94</td>\n",
       "      <td>1</td>\n",
       "      <td>3</td>\n",
       "      <td>9.90</td>\n",
       "      <td>2</td>\n",
       "      <td>1</td>\n",
       "    </tr>\n",
       "    <tr>\n",
       "      <th>3</th>\n",
       "      <td>36</td>\n",
       "      <td>2</td>\n",
       "      <td>1</td>\n",
       "      <td>0</td>\n",
       "      <td>0.00</td>\n",
       "      <td>1</td>\n",
       "      <td>4</td>\n",
       "      <td>26.00</td>\n",
       "      <td>1</td>\n",
       "      <td>0</td>\n",
       "    </tr>\n",
       "    <tr>\n",
       "      <th>4</th>\n",
       "      <td>33</td>\n",
       "      <td>3</td>\n",
       "      <td>0</td>\n",
       "      <td>0</td>\n",
       "      <td>6.30</td>\n",
       "      <td>1</td>\n",
       "      <td>53</td>\n",
       "      <td>18.00</td>\n",
       "      <td>0</td>\n",
       "      <td>0</td>\n",
       "    </tr>\n",
       "  </tbody>\n",
       "</table>\n",
       "</div>"
      ],
      "text/plain": [
       "   Age  Agency_Code  Type  Claimed  Commision  Channel  Duration  Sales  \\\n",
       "0   48            0     0        0       0.70        1         7   2.51   \n",
       "1   36            2     1        0       0.00        1        34  20.00   \n",
       "2   39            1     1        0       5.94        1         3   9.90   \n",
       "3   36            2     1        0       0.00        1         4  26.00   \n",
       "4   33            3     0        0       6.30        1        53  18.00   \n",
       "\n",
       "   Product Name  Destination  \n",
       "0             2            0  \n",
       "1             2            0  \n",
       "2             2            1  \n",
       "3             1            0  \n",
       "4             0            0  "
      ]
     },
     "execution_count": 46,
     "metadata": {},
     "output_type": "execute_result"
    }
   ],
   "source": [
    "ins_df.head()"
   ]
  },
  {
   "cell_type": "code",
   "execution_count": 47,
   "metadata": {},
   "outputs": [],
   "source": [
    "ld_df = ins_df"
   ]
  },
  {
   "cell_type": "code",
   "execution_count": 48,
   "metadata": {},
   "outputs": [
    {
     "data": {
      "text/html": [
       "<div>\n",
       "<style scoped>\n",
       "    .dataframe tbody tr th:only-of-type {\n",
       "        vertical-align: middle;\n",
       "    }\n",
       "\n",
       "    .dataframe tbody tr th {\n",
       "        vertical-align: top;\n",
       "    }\n",
       "\n",
       "    .dataframe thead th {\n",
       "        text-align: right;\n",
       "    }\n",
       "</style>\n",
       "<table border=\"1\" class=\"dataframe\">\n",
       "  <thead>\n",
       "    <tr style=\"text-align: right;\">\n",
       "      <th></th>\n",
       "      <th>Age</th>\n",
       "      <th>Agency_Code</th>\n",
       "      <th>Type</th>\n",
       "      <th>Commision</th>\n",
       "      <th>Channel</th>\n",
       "      <th>Duration</th>\n",
       "      <th>Sales</th>\n",
       "      <th>Product Name</th>\n",
       "      <th>Destination</th>\n",
       "    </tr>\n",
       "  </thead>\n",
       "  <tbody>\n",
       "    <tr>\n",
       "      <th>0</th>\n",
       "      <td>48</td>\n",
       "      <td>0</td>\n",
       "      <td>0</td>\n",
       "      <td>0.70</td>\n",
       "      <td>1</td>\n",
       "      <td>7</td>\n",
       "      <td>2.51</td>\n",
       "      <td>2</td>\n",
       "      <td>0</td>\n",
       "    </tr>\n",
       "    <tr>\n",
       "      <th>1</th>\n",
       "      <td>36</td>\n",
       "      <td>2</td>\n",
       "      <td>1</td>\n",
       "      <td>0.00</td>\n",
       "      <td>1</td>\n",
       "      <td>34</td>\n",
       "      <td>20.00</td>\n",
       "      <td>2</td>\n",
       "      <td>0</td>\n",
       "    </tr>\n",
       "    <tr>\n",
       "      <th>2</th>\n",
       "      <td>39</td>\n",
       "      <td>1</td>\n",
       "      <td>1</td>\n",
       "      <td>5.94</td>\n",
       "      <td>1</td>\n",
       "      <td>3</td>\n",
       "      <td>9.90</td>\n",
       "      <td>2</td>\n",
       "      <td>1</td>\n",
       "    </tr>\n",
       "    <tr>\n",
       "      <th>3</th>\n",
       "      <td>36</td>\n",
       "      <td>2</td>\n",
       "      <td>1</td>\n",
       "      <td>0.00</td>\n",
       "      <td>1</td>\n",
       "      <td>4</td>\n",
       "      <td>26.00</td>\n",
       "      <td>1</td>\n",
       "      <td>0</td>\n",
       "    </tr>\n",
       "    <tr>\n",
       "      <th>4</th>\n",
       "      <td>33</td>\n",
       "      <td>3</td>\n",
       "      <td>0</td>\n",
       "      <td>6.30</td>\n",
       "      <td>1</td>\n",
       "      <td>53</td>\n",
       "      <td>18.00</td>\n",
       "      <td>0</td>\n",
       "      <td>0</td>\n",
       "    </tr>\n",
       "  </tbody>\n",
       "</table>\n",
       "</div>"
      ],
      "text/plain": [
       "   Age  Agency_Code  Type  Commision  Channel  Duration  Sales  Product Name  \\\n",
       "0   48            0     0       0.70        1         7   2.51             2   \n",
       "1   36            2     1       0.00        1        34  20.00             2   \n",
       "2   39            1     1       5.94        1         3   9.90             2   \n",
       "3   36            2     1       0.00        1         4  26.00             1   \n",
       "4   33            3     0       6.30        1        53  18.00             0   \n",
       "\n",
       "   Destination  \n",
       "0            0  \n",
       "1            0  \n",
       "2            1  \n",
       "3            0  \n",
       "4            0  "
      ]
     },
     "execution_count": 48,
     "metadata": {},
     "output_type": "execute_result"
    }
   ],
   "source": [
    "X = ld_df.drop(\"Claimed\", axis=1)\n",
    "\n",
    "y = ld_df.pop(\"Claimed\") \n",
    "\n",
    "X.head()"
   ]
  },
  {
   "cell_type": "code",
   "execution_count": 50,
   "metadata": {},
   "outputs": [],
   "source": [
    "from sklearn.model_selection import train_test_split\n",
    "\n",
    "X_train, X_test,y_train, y_test= train_test_split(X, y, test_size=.30, random_state=1)"
   ]
  },
  {
   "cell_type": "code",
   "execution_count": 51,
   "metadata": {},
   "outputs": [
    {
     "name": "stdout",
     "output_type": "stream",
     "text": [
      "X_train (2100, 9)\n",
      "X_test (900, 9)\n",
      "train_labels (2100,)\n",
      "test_labels (900,)\n",
      "Total Obs 3000\n"
     ]
    }
   ],
   "source": [
    "print('X_train',X_train.shape)\n",
    "print('X_test',X_test.shape)\n",
    "print('train_labels',train_labels.shape)\n",
    "print('test_labels',test_labels.shape)\n",
    "print('Total Obs',2100+900)"
   ]
  },
  {
   "cell_type": "markdown",
   "metadata": {
    "colab_type": "text",
    "id": "rjM2dFKtpXA6"
   },
   "source": [
    "# Scaling the variables"
   ]
  },
  {
   "cell_type": "code",
   "execution_count": 52,
   "metadata": {
    "ExecuteTime": {
     "end_time": "2021-01-20T14:09:18.577098Z",
     "start_time": "2021-01-20T14:09:18.565133Z"
    },
    "colab": {},
    "colab_type": "code",
    "id": "fvFn_V2WpXA7"
   },
   "outputs": [],
   "source": [
    "from sklearn.preprocessing import StandardScaler"
   ]
  },
  {
   "cell_type": "code",
   "execution_count": 53,
   "metadata": {
    "ExecuteTime": {
     "end_time": "2021-01-20T14:09:20.262395Z",
     "start_time": "2021-01-20T14:09:20.256413Z"
    },
    "colab": {},
    "colab_type": "code",
    "id": "VHdkCGGvpXBA"
   },
   "outputs": [],
   "source": [
    "#Initialize an object for StandardScaler\n",
    "sc = StandardScaler()"
   ]
  },
  {
   "cell_type": "code",
   "execution_count": 54,
   "metadata": {
    "ExecuteTime": {
     "end_time": "2021-01-20T14:09:21.183443Z",
     "start_time": "2021-01-20T14:09:21.170479Z"
    },
    "colab": {},
    "colab_type": "code",
    "id": "0DkIoN_-pXBD",
    "outputId": "fc5e988b-4194-46b9-eeb7-73b12eec8361"
   },
   "outputs": [],
   "source": [
    "#Scale the training data\n",
    "x_train = sc.fit_transform(X_train)"
   ]
  },
  {
   "cell_type": "code",
   "execution_count": 55,
   "metadata": {
    "ExecuteTime": {
     "end_time": "2021-01-20T14:09:22.070150Z",
     "start_time": "2021-01-20T14:09:22.052194Z"
    },
    "colab": {},
    "colab_type": "code",
    "id": "A2-KbLq5pXBG",
    "outputId": "8432ca79-d693-487e-800b-dce13f36edc6"
   },
   "outputs": [
    {
     "data": {
      "text/plain": [
       "array([[-0.19192502,  0.72815922,  0.80520286, ..., -0.5730663 ,\n",
       "         0.24642411, -0.43926017],\n",
       "       [-0.19192502,  0.72815922,  0.80520286, ..., -0.26910565,\n",
       "         0.24642411,  1.27851702],\n",
       "       [-0.97188154, -1.28518425, -1.24192306, ...,  1.74601534,\n",
       "         1.83381865, -0.43926017],\n",
       "       ...,\n",
       "       [-0.19192502,  0.72815922,  0.80520286, ...,  0.02103862,\n",
       "         0.24642411, -0.43926017],\n",
       "       [ 0.58803151,  1.73483096, -1.24192306, ..., -0.60069909,\n",
       "        -1.34097044, -0.43926017],\n",
       "       [-0.19192502, -1.28518425, -1.24192306, ..., -0.53852532,\n",
       "         1.83381865, -0.43926017]])"
      ]
     },
     "execution_count": 55,
     "metadata": {},
     "output_type": "execute_result"
    }
   ],
   "source": [
    "x_train"
   ]
  },
  {
   "cell_type": "code",
   "execution_count": 56,
   "metadata": {
    "ExecuteTime": {
     "end_time": "2021-01-20T14:09:23.912440Z",
     "start_time": "2021-01-20T14:09:23.894484Z"
    },
    "colab": {},
    "colab_type": "code",
    "id": "arhRF0UkpXBK",
    "outputId": "e7e4853b-53d3-480a-9671-71325fedfbc4"
   },
   "outputs": [],
   "source": [
    "# Apply the transformation on the test data\n",
    "x_test = sc.transform(X_test)"
   ]
  },
  {
   "cell_type": "code",
   "execution_count": 57,
   "metadata": {
    "ExecuteTime": {
     "end_time": "2021-01-20T14:09:25.009817Z",
     "start_time": "2021-01-20T14:09:25.001839Z"
    },
    "colab": {},
    "colab_type": "code",
    "id": "HiQqy-gvpXBN",
    "outputId": "ba2b5685-aff0-4fd0-dfb7-0af9fee1b150"
   },
   "outputs": [
    {
     "data": {
      "text/plain": [
       "array([[-1.55684893, -0.27851251,  0.80520286, ...,  0.18683534,\n",
       "        -1.34097044,  2.99629421],\n",
       "       [ 1.66047173, -1.28518425, -1.24192306, ..., -0.48325974,\n",
       "        -1.34097044, -0.43926017],\n",
       "       [-0.87438698, -1.28518425, -1.24192306, ..., -0.62833187,\n",
       "        -1.34097044, -0.43926017],\n",
       "       ...,\n",
       "       [-0.19192502, -1.28518425, -1.24192306, ..., -0.47635155,\n",
       "        -1.34097044, -0.43926017],\n",
       "       [ 1.07550434,  1.73483096, -1.24192306, ..., -0.43490237,\n",
       "        -1.34097044, -0.43926017],\n",
       "       [-0.28941958,  1.73483096, -1.24192306, ..., -0.49016794,\n",
       "        -1.34097044, -0.43926017]])"
      ]
     },
     "execution_count": 57,
     "metadata": {},
     "output_type": "execute_result"
    }
   ],
   "source": [
    "x_test"
   ]
  },
  {
   "cell_type": "markdown",
   "metadata": {
    "colab_type": "text",
    "id": "mtQ-zpXBpXBR"
   },
   "source": [
    "# Building Neural Network Model"
   ]
  },
  {
   "cell_type": "code",
   "execution_count": 131,
   "metadata": {
    "ExecuteTime": {
     "end_time": "2021-01-20T14:09:31.904261Z",
     "start_time": "2021-01-20T14:09:31.885311Z"
    },
    "colab": {},
    "colab_type": "code",
    "id": "YMZABqTRpXBS"
   },
   "outputs": [],
   "source": [
    "clf = MLPClassifier(hidden_layer_sizes=100, max_iter=5000,\n",
    "                     solver='sgd', verbose=True,  \n",
    "                    random_state=1,tol=0.01)"
   ]
  },
  {
   "cell_type": "code",
   "execution_count": 132,
   "metadata": {},
   "outputs": [],
   "source": [
    "# We can also try below parameters Building and Training the modal \n",
    "#clf = MLPClassifier(hidden_layer_sizes=300, max_iter=500, verbose=True, random_state=1, tol=0.001)"
   ]
  },
  {
   "cell_type": "code",
   "execution_count": 133,
   "metadata": {
    "ExecuteTime": {
     "end_time": "2021-01-20T14:09:34.145208Z",
     "start_time": "2021-01-20T14:09:33.683674Z"
    },
    "colab": {},
    "colab_type": "code",
    "id": "99E-vhwcpXBU",
    "outputId": "31c75547-2cc8-4f7a-e6a0-3853ad972bfa"
   },
   "outputs": [
    {
     "name": "stdout",
     "output_type": "stream",
     "text": [
      "Iteration 1, loss = 0.73190828\n",
      "Iteration 2, loss = 0.70481842\n",
      "Iteration 3, loss = 0.67377712\n",
      "Iteration 4, loss = 0.64619472\n",
      "Iteration 5, loss = 0.62272023\n",
      "Iteration 6, loss = 0.60330223\n",
      "Iteration 7, loss = 0.58732612\n",
      "Iteration 8, loss = 0.57422402\n",
      "Iteration 9, loss = 0.56310704\n",
      "Iteration 10, loss = 0.55382327\n",
      "Iteration 11, loss = 0.54599574\n",
      "Iteration 12, loss = 0.53911673\n",
      "Iteration 13, loss = 0.53335898\n",
      "Iteration 14, loss = 0.52839899\n",
      "Iteration 15, loss = 0.52391237\n",
      "Iteration 16, loss = 0.51999360\n",
      "Iteration 17, loss = 0.51649432\n",
      "Iteration 18, loss = 0.51346008\n",
      "Iteration 19, loss = 0.51074817\n",
      "Iteration 20, loss = 0.50822930\n",
      "Training loss did not improve more than tol=0.010000 for 10 consecutive epochs. Stopping.\n"
     ]
    },
    {
     "data": {
      "text/plain": [
       "MLPClassifier(hidden_layer_sizes=100, max_iter=5000, random_state=1,\n",
       "              solver='sgd', tol=0.01, verbose=True)"
      ]
     },
     "execution_count": 133,
     "metadata": {},
     "output_type": "execute_result"
    }
   ],
   "source": [
    "# Fit the model on the training data\n",
    "clf.fit(x_train, y_train)"
   ]
  },
  {
   "cell_type": "markdown",
   "metadata": {
    "colab_type": "text",
    "id": "iXkRzSIxpXBW"
   },
   "source": [
    "## Predicting training data"
   ]
  },
  {
   "cell_type": "code",
   "execution_count": 144,
   "metadata": {
    "ExecuteTime": {
     "end_time": "2021-01-20T14:09:39.299498Z",
     "start_time": "2021-01-20T14:09:39.279551Z"
    },
    "colab": {},
    "colab_type": "code",
    "id": "w_ZiBh0QpXBY"
   },
   "outputs": [],
   "source": [
    "# use the model to predict the training data\n",
    "y_pred1 = clf.predict(x_train)"
   ]
  },
  {
   "cell_type": "markdown",
   "metadata": {
    "colab_type": "text",
    "id": "6rwyrpSRpXBb"
   },
   "source": [
    "## Evaluating model performance on training data"
   ]
  },
  {
   "cell_type": "code",
   "execution_count": 145,
   "metadata": {
    "ExecuteTime": {
     "end_time": "2021-01-20T14:09:40.917437Z",
     "start_time": "2021-01-20T14:09:40.900483Z"
    },
    "colab": {},
    "colab_type": "code",
    "id": "Od8LBDIOpXBc"
   },
   "outputs": [],
   "source": [
    "from sklearn.metrics import confusion_matrix,classification_report,plot_confusion_matrix"
   ]
  },
  {
   "cell_type": "code",
   "execution_count": 146,
   "metadata": {
    "ExecuteTime": {
     "end_time": "2021-01-20T14:09:49.560224Z",
     "start_time": "2021-01-20T14:09:49.371729Z"
    },
    "colab": {},
    "colab_type": "code",
    "id": "RIkZsHbrpXBe",
    "outputId": "19381ac7-d8e5-4a80-8d56-8e2ff32cd9b4"
   },
   "outputs": [
    {
     "data": {
      "image/png": "[encoded data removed]",
      "text/plain": [
       "<Figure size 432x288 with 2 Axes>"
      ]
     },
     "metadata": {},
     "output_type": "display_data"
    }
   ],
   "source": [
    "plot_confusion_matrix(clf,x_train,y_train)\n",
    "plt.title('Neural Networks Train Data Confusion Matrix')\n",
    "plt.grid(b=False,axis='both');"
   ]
  },
  {
   "cell_type": "code",
   "execution_count": 147,
   "metadata": {
    "ExecuteTime": {
     "end_time": "2021-01-20T14:09:56.527102Z",
     "start_time": "2021-01-20T14:09:56.511147Z"
    },
    "colab": {},
    "colab_type": "code",
    "id": "Avh25EPFpXBg",
    "outputId": "71f9dcc7-c4de-42e3-d7a4-4fc025e5d472"
   },
   "outputs": [
    {
     "data": {
      "text/plain": [
       "0.7585714285714286"
      ]
     },
     "execution_count": 147,
     "metadata": {},
     "output_type": "execute_result"
    }
   ],
   "source": [
    "clf.score(x_train,y_train)"
   ]
  },
  {
   "cell_type": "code",
   "execution_count": 148,
   "metadata": {
    "ExecuteTime": {
     "end_time": "2021-01-20T14:09:57.450248Z",
     "start_time": "2021-01-20T14:09:57.422293Z"
    },
    "colab": {},
    "colab_type": "code",
    "id": "9Mm44WmDpXBk",
    "outputId": "611b8aa6-7e0b-457b-8989-02f9c1a57ae2"
   },
   "outputs": [
    {
     "name": "stdout",
     "output_type": "stream",
     "text": [
      "              precision    recall  f1-score   support\n",
      "\n",
      "           0       0.76      0.95      0.85      1471\n",
      "           1       0.72      0.31      0.44       629\n",
      "\n",
      "    accuracy                           0.76      2100\n",
      "   macro avg       0.74      0.63      0.64      2100\n",
      "weighted avg       0.75      0.76      0.72      2100\n",
      "\n"
     ]
    }
   ],
   "source": [
    "print(classification_report(y_train, y_pred1))"
   ]
  },
  {
   "cell_type": "code",
   "execution_count": 149,
   "metadata": {
    "ExecuteTime": {
     "end_time": "2021-01-20T14:10:01.865974Z",
     "start_time": "2021-01-20T14:10:01.593701Z"
    },
    "colab": {},
    "colab_type": "code",
    "id": "dHp8U1zbpXBs",
    "outputId": "07a5dff1-c686-49c1-b138-917c0c95846f"
   },
   "outputs": [
    {
     "name": "stdout",
     "output_type": "stream",
     "text": [
      "AUC: 0.792\n"
     ]
    },
    {
     "data": {
      "image/png": "[encoded data removed]",
      "text/plain": [
       "<Figure size 432x288 with 1 Axes>"
      ]
     },
     "metadata": {},
     "output_type": "display_data"
    }
   ],
   "source": [
    "# AUC and ROC for the training data\n",
    "# predict probabilities\n",
    "probs = clf.predict_proba(x_train)\n",
    "# keep probabilities for the positive outcome only\n",
    "probs = probs[:, 1]\n",
    "# calculate AUC\n",
    "from sklearn.metrics import roc_auc_score\n",
    "auc = roc_auc_score(y_train, probs)\n",
    "print('AUC: %.3f' % auc)\n",
    "# calculate roc curve\n",
    "from sklearn.metrics import roc_curve\n",
    "fpr, tpr, thresholds = roc_curve(y_train, probs)\n",
    "plt.plot([0, 1], [0, 1], linestyle='--')\n",
    "# plot the roc curve for the model\n",
    "plt.plot(fpr, tpr, marker='.')\n",
    "# show the plot\n",
    "plt.show()"
   ]
  },
  {
   "cell_type": "markdown",
   "metadata": {
    "colab_type": "text",
    "id": "BQiJJOVMpXB2"
   },
   "source": [
    "## Predicting Test Data and comparing model performance"
   ]
  },
  {
   "cell_type": "code",
   "execution_count": 150,
   "metadata": {
    "ExecuteTime": {
     "end_time": "2021-01-20T14:10:15.633441Z",
     "start_time": "2021-01-20T14:10:15.610502Z"
    },
    "colab": {},
    "colab_type": "code",
    "id": "awYFPE-YpXB3"
   },
   "outputs": [],
   "source": [
    "y_pred = clf.predict(x_test)"
   ]
  },
  {
   "cell_type": "code",
   "execution_count": 151,
   "metadata": {
    "ExecuteTime": {
     "end_time": "2021-01-20T14:12:49.990119Z",
     "start_time": "2021-01-20T14:12:49.803617Z"
    },
    "colab": {},
    "colab_type": "code",
    "id": "8EIdUWg3pXB6",
    "outputId": "b71e9a79-f4b7-41da-8a70-ac2de47bb041"
   },
   "outputs": [
    {
     "data": {
      "image/png": "[encoded data removed]",
      "text/plain": [
       "<Figure size 432x288 with 2 Axes>"
      ]
     },
     "metadata": {},
     "output_type": "display_data"
    }
   ],
   "source": [
    "plot_confusion_matrix(clf,x_test,y_test)\n",
    "plt.title('Neural Networks Test Data Confusion Matrix')\n",
    "plt.grid(b = False, which='both');"
   ]
  },
  {
   "cell_type": "code",
   "execution_count": 152,
   "metadata": {
    "ExecuteTime": {
     "end_time": "2021-01-20T14:12:56.840417Z",
     "start_time": "2021-01-20T14:12:56.825461Z"
    },
    "colab": {},
    "colab_type": "code",
    "id": "q8WYIq0opXB-",
    "outputId": "d51cce6a-8893-4b03-a61e-e7b4ee33bec3"
   },
   "outputs": [
    {
     "data": {
      "text/plain": [
       "0.7344444444444445"
      ]
     },
     "execution_count": 152,
     "metadata": {},
     "output_type": "execute_result"
    }
   ],
   "source": [
    "clf.score(x_test,y_test)"
   ]
  },
  {
   "cell_type": "markdown",
   "metadata": {},
   "source": [
    "# Classification Report for Train and Test Dataset for Initial ANN Modal"
   ]
  },
  {
   "cell_type": "code",
   "execution_count": 157,
   "metadata": {
    "ExecuteTime": {
     "end_time": "2021-01-20T14:13:29.004372Z",
     "start_time": "2021-01-20T14:13:28.974456Z"
    },
    "colab": {},
    "colab_type": "code",
    "id": "KZS8mPTQpXCB",
    "outputId": "a6d9f77d-5983-4390-fe4a-9a143aecb594",
    "scrolled": true
   },
   "outputs": [
    {
     "name": "stdout",
     "output_type": "stream",
     "text": [
      "Classification report for Train Dataset for Initial modal \n",
      "               precision    recall  f1-score   support\n",
      "\n",
      "           0       0.76      0.95      0.85      1471\n",
      "           1       0.72      0.31      0.44       629\n",
      "\n",
      "    accuracy                           0.76      2100\n",
      "   macro avg       0.74      0.63      0.64      2100\n",
      "weighted avg       0.75      0.76      0.72      2100\n",
      "\n",
      "Classification report for Test Dataset for Initial modal \n",
      "               precision    recall  f1-score   support\n",
      "\n",
      "           0       0.73      0.96      0.83       605\n",
      "           1       0.77      0.27      0.40       295\n",
      "\n",
      "    accuracy                           0.73       900\n",
      "   macro avg       0.75      0.61      0.61       900\n",
      "weighted avg       0.74      0.73      0.69       900\n",
      "\n"
     ]
    }
   ],
   "source": [
    "print(\"Classification report for Train Dataset for Initial modal\",\"\\n\",classification_report(y_train, y_pred1))\n",
    "\n",
    "print(\"Classification report for Test Dataset for Initial modal\",\"\\n\",classification_report(y_test, y_pred))"
   ]
  },
  {
   "cell_type": "code",
   "execution_count": 120,
   "metadata": {
    "ExecuteTime": {
     "end_time": "2021-01-20T14:14:19.197166Z",
     "start_time": "2021-01-20T14:14:18.938811Z"
    },
    "colab": {},
    "colab_type": "code",
    "id": "MYlL0j7jpXCG",
    "outputId": "4b19f84f-1230-4a5e-ff7e-961dc38016b8"
   },
   "outputs": [
    {
     "name": "stdout",
     "output_type": "stream",
     "text": [
      "AUC: 0.767\n"
     ]
    },
    {
     "data": {
      "image/png": "[encoded data removed]",
      "text/plain": [
       "<Figure size 432x288 with 1 Axes>"
      ]
     },
     "metadata": {},
     "output_type": "display_data"
    }
   ],
   "source": [
    "# AUC and ROC for the test data\n",
    "\n",
    "# predict probabilities\n",
    "probs = clf.predict_proba(x_test)\n",
    "# keep probabilities for the positive outcome only\n",
    "probs = probs[:, 1]\n",
    "# calculate AUC\n",
    "auc = roc_auc_score(y_test, probs)\n",
    "print('AUC: %.3f' % auc)\n",
    "# calculate roc curve\n",
    "fpr, tpr, thresholds = roc_curve(y_test, probs)\n",
    "plt.plot([0, 1], [0, 1], linestyle='--')\n",
    "# plot the roc curve for the model\n",
    "plt.plot(fpr, tpr, marker='.')\n",
    "# show the plot\n",
    "plt.show()"
   ]
  },
  {
   "cell_type": "markdown",
   "metadata": {
    "colab_type": "text",
    "id": "7Ym3YV2ppXCM"
   },
   "source": [
    "# Model Tuning through Grid Search"
   ]
  },
  {
   "cell_type": "markdown",
   "metadata": {},
   "source": [
    "**Below Code may take too much time.These values can be used instead {'hidden_layer_sizes': 500, 'max_iter': 5000, 'solver': 'adam', 'tol': 0.01}**"
   ]
  },
  {
   "cell_type": "code",
   "execution_count": 74,
   "metadata": {
    "ExecuteTime": {
     "end_time": "2021-01-20T14:17:25.849364Z",
     "start_time": "2021-01-20T14:17:25.841379Z"
    },
    "colab": {},
    "colab_type": "code",
    "id": "dUlRtz3GpXCO"
   },
   "outputs": [],
   "source": [
    "from sklearn.model_selection import GridSearchCV\n",
    "\n",
    "param_grid = {\n",
    "    'hidden_layer_sizes': [50,100,200,300,500],\n",
    "    'max_iter': [500,750,1000,3000],\n",
    "    'solver': ['sgd','adam'],\n",
    "    'tol': [0.001],\n",
    "}\n",
    "\n",
    "nncl = MLPClassifier(random_state=1)\n",
    "\n",
    "grid_search = GridSearchCV(estimator = nncl, \n",
    "                           param_grid = param_grid, cv = 10)"
   ]
  },
  {
   "cell_type": "code",
   "execution_count": 75,
   "metadata": {
    "ExecuteTime": {
     "end_time": "2021-01-20T14:22:03.352725Z",
     "start_time": "2021-01-20T14:17:38.714628Z"
    },
    "colab": {},
    "colab_type": "code",
    "id": "uLYo7zB8pXCQ",
    "outputId": "18708c5b-3b5d-467a-d8d7-19281e697a96"
   },
   "outputs": [
    {
     "data": {
      "text/plain": [
       "GridSearchCV(cv=10, estimator=MLPClassifier(random_state=1),\n",
       "             param_grid={'hidden_layer_sizes': [50, 100, 200, 300, 500],\n",
       "                         'max_iter': [500, 750, 1000, 3000],\n",
       "                         'solver': ['sgd', 'adam'], 'tol': [0.001]})"
      ]
     },
     "execution_count": 75,
     "metadata": {},
     "output_type": "execute_result"
    }
   ],
   "source": [
    "grid_search.fit(x_train, y_train)"
   ]
  },
  {
   "cell_type": "code",
   "execution_count": 76,
   "metadata": {
    "ExecuteTime": {
     "end_time": "2021-01-20T14:30:50.185755Z",
     "start_time": "2021-01-20T14:30:50.172792Z"
    },
    "colab": {},
    "colab_type": "code",
    "id": "YzgBpeiBpXCT",
    "outputId": "e2e2cef6-4ac1-4109-9eef-5e3813913b13"
   },
   "outputs": [
    {
     "data": {
      "text/plain": [
       "{'hidden_layer_sizes': 300, 'max_iter': 500, 'solver': 'adam', 'tol': 0.001}"
      ]
     },
     "execution_count": 76,
     "metadata": {},
     "output_type": "execute_result"
    }
   ],
   "source": [
    "grid_search.best_params_"
   ]
  },
  {
   "cell_type": "code",
   "execution_count": 77,
   "metadata": {
    "ExecuteTime": {
     "end_time": "2021-01-20T14:32:45.828472Z",
     "start_time": "2021-01-20T14:32:45.815475Z"
    },
    "colab": {},
    "colab_type": "code",
    "id": "eUtblSKipXCV"
   },
   "outputs": [],
   "source": [
    "best_grid = grid_search.best_estimator_"
   ]
  },
  {
   "cell_type": "code",
   "execution_count": 78,
   "metadata": {
    "ExecuteTime": {
     "end_time": "2021-01-20T14:32:53.699453Z",
     "start_time": "2021-01-20T14:32:53.680504Z"
    },
    "colab": {},
    "colab_type": "code",
    "id": "ctsE8zsjpXCX",
    "outputId": "231f40b8-95fa-4ddd-96a9-4029d3a45753"
   },
   "outputs": [
    {
     "data": {
      "text/plain": [
       "MLPClassifier(hidden_layer_sizes=300, max_iter=500, random_state=1, tol=0.001)"
      ]
     },
     "execution_count": 78,
     "metadata": {},
     "output_type": "execute_result"
    }
   ],
   "source": [
    "best_grid"
   ]
  },
  {
   "cell_type": "markdown",
   "metadata": {},
   "source": [
    "## Prediction & Evaluation on Train Data"
   ]
  },
  {
   "cell_type": "code",
   "execution_count": 79,
   "metadata": {
    "ExecuteTime": {
     "end_time": "2021-01-20T14:33:31.889119Z",
     "start_time": "2021-01-20T14:33:31.819306Z"
    },
    "colab": {},
    "colab_type": "code",
    "id": "r63wmjuNpXCc"
   },
   "outputs": [],
   "source": [
    "ytrain_predict = best_grid.predict(x_train)\n",
    "ytest_predict = best_grid.predict(x_test)"
   ]
  },
  {
   "cell_type": "code",
   "execution_count": 125,
   "metadata": {
    "ExecuteTime": {
     "end_time": "2021-01-20T14:42:20.011045Z",
     "start_time": "2021-01-20T14:42:19.782656Z"
    }
   },
   "outputs": [
    {
     "data": {
      "image/png": "[encoded data removed]",
      "text/plain": [
       "<Figure size 432x288 with 2 Axes>"
      ]
     },
     "metadata": {},
     "output_type": "display_data"
    }
   ],
   "source": [
    "plot_confusion_matrix(best_grid,x_train,y_train)\n",
    "plt.grid(b = False, which='both')\n",
    "plt.title('Confusion Matrix - Train Data Predictions-ANN');"
   ]
  },
  {
   "cell_type": "code",
   "execution_count": 82,
   "metadata": {
    "ExecuteTime": {
     "end_time": "2021-01-20T14:42:45.536096Z",
     "start_time": "2021-01-20T14:42:45.513127Z"
    },
    "colab": {},
    "colab_type": "code",
    "id": "sZceOlrzpXCg",
    "outputId": "8c25a83a-c649-40c4-9397-ef560fb803a7"
   },
   "outputs": [
    {
     "data": {
      "text/plain": [
       "array([[1302,  169],\n",
       "       [ 278,  351]], dtype=int64)"
      ]
     },
     "execution_count": 82,
     "metadata": {},
     "output_type": "execute_result"
    }
   ],
   "source": [
    "confusion_matrix(y_train,ytrain_predict) # alternate method to print CM"
   ]
  },
  {
   "cell_type": "code",
   "execution_count": 83,
   "metadata": {
    "ExecuteTime": {
     "end_time": "2021-01-20T14:42:47.696506Z",
     "start_time": "2021-01-20T14:42:47.676560Z"
    },
    "colab": {},
    "colab_type": "code",
    "id": "pTJWuBkvpXCl",
    "outputId": "d03c8ec4-136c-420d-dd1b-f73654e259cb"
   },
   "outputs": [
    {
     "data": {
      "text/plain": [
       "0.7871428571428571"
      ]
     },
     "execution_count": 83,
     "metadata": {},
     "output_type": "execute_result"
    }
   ],
   "source": [
    "best_grid.score(x_train,y_train)"
   ]
  },
  {
   "cell_type": "code",
   "execution_count": 84,
   "metadata": {
    "ExecuteTime": {
     "end_time": "2021-01-20T14:42:51.884600Z",
     "start_time": "2021-01-20T14:42:51.863624Z"
    },
    "colab": {},
    "colab_type": "code",
    "id": "Euu3IUCXpXCp",
    "outputId": "73d78ec4-ab65-4f32-eb36-4c061d4d0a33"
   },
   "outputs": [
    {
     "name": "stdout",
     "output_type": "stream",
     "text": [
      "              precision    recall  f1-score   support\n",
      "\n",
      "           0       0.82      0.89      0.85      1471\n",
      "           1       0.68      0.56      0.61       629\n",
      "\n",
      "    accuracy                           0.79      2100\n",
      "   macro avg       0.75      0.72      0.73      2100\n",
      "weighted avg       0.78      0.79      0.78      2100\n",
      "\n"
     ]
    }
   ],
   "source": [
    "print(classification_report(y_train,ytrain_predict))"
   ]
  },
  {
   "cell_type": "code",
   "execution_count": 158,
   "metadata": {
    "ExecuteTime": {
     "end_time": "2021-01-20T14:43:32.799656Z",
     "start_time": "2021-01-20T14:43:32.363787Z"
    },
    "colab": {},
    "colab_type": "code",
    "id": "0-cIBSA7pXCs",
    "outputId": "4dba237a-084d-4eb2-c065-cd8ca37b0c19"
   },
   "outputs": [
    {
     "data": {
      "image/png": "[encoded data removed]",
      "text/plain": [
       "<Figure size 432x288 with 1 Axes>"
      ]
     },
     "metadata": {},
     "output_type": "display_data"
    },
    {
     "name": "stdout",
     "output_type": "stream",
     "text": [
      "Area under Curve is 0.8322431881235415\n"
     ]
    }
   ],
   "source": [
    "#from sklearn.metrics import roc_curve,roc_auc_score\n",
    "rf_fpr, rf_tpr,_=roc_curve(y_train,best_grid.predict_proba(x_train)[:,1])\n",
    "plt.plot(rf_fpr,rf_tpr, marker='x', label='NN')\n",
    "plt.plot(np.arange(0,1.1,0.1),np.arange(0,1.1,0.1))\n",
    "plt.xlabel('False Positive Rate')\n",
    "plt.ylabel('True Positive Rate')\n",
    "plt.title('ROC Train Data Predictions-ANN')\n",
    "plt.show()\n",
    "print('Area under Curve is', roc_auc_score(y_train,\n",
    "                                           best_grid.predict_proba(x_train)[:,1]))"
   ]
  },
  {
   "cell_type": "markdown",
   "metadata": {},
   "source": [
    "## Prediction & Evaluation on Test Data"
   ]
  },
  {
   "cell_type": "code",
   "execution_count": 124,
   "metadata": {
    "ExecuteTime": {
     "end_time": "2021-01-20T14:44:54.752350Z",
     "start_time": "2021-01-20T14:44:54.461552Z"
    },
    "colab": {},
    "colab_type": "code",
    "id": "lrvdwE-XpXCv",
    "outputId": "1d4f4e7b-a075-4fc8-ddc6-92bf07bf95fa"
   },
   "outputs": [
    {
     "data": {
      "image/png": "[encoded data removed]",
      "text/plain": [
       "<Figure size 432x288 with 2 Axes>"
      ]
     },
     "metadata": {},
     "output_type": "display_data"
    }
   ],
   "source": [
    "plot_confusion_matrix(best_grid, x_test,y_test)\n",
    "plt.grid(b = False, which='both');\n",
    "plt.title('Confusion Matrix - Test Data Predictions--ANN');"
   ]
  },
  {
   "cell_type": "code",
   "execution_count": 87,
   "metadata": {
    "ExecuteTime": {
     "end_time": "2021-01-20T14:45:00.798046Z",
     "start_time": "2021-01-20T14:45:00.781094Z"
    },
    "colab": {},
    "colab_type": "code",
    "id": "XsZ-_DaGpXC1",
    "outputId": "1cb2aeb2-dad6-4904-85b2-3b20290f1ba3",
    "scrolled": true
   },
   "outputs": [
    {
     "data": {
      "text/plain": [
       "0.7655555555555555"
      ]
     },
     "execution_count": 87,
     "metadata": {},
     "output_type": "execute_result"
    }
   ],
   "source": [
    "best_grid.score(x_test,y_test)"
   ]
  },
  {
   "cell_type": "markdown",
   "metadata": {},
   "source": [
    "# Classification Report for both Train and Test Dataset for best ANN Modal"
   ]
  },
  {
   "cell_type": "code",
   "execution_count": 156,
   "metadata": {
    "ExecuteTime": {
     "end_time": "2021-01-20T14:45:06.219585Z",
     "start_time": "2021-01-20T14:45:06.197613Z"
    },
    "colab": {},
    "colab_type": "code",
    "id": "HWIvPfkopXC4",
    "outputId": "821aa2f8-ce8c-4048-c31a-fa2c69dbd9e0"
   },
   "outputs": [
    {
     "name": "stdout",
     "output_type": "stream",
     "text": [
      "A--Classification report for Train Dataset for Hypertuned modal \n",
      "               precision    recall  f1-score   support\n",
      "\n",
      "           0       0.82      0.89      0.85      1471\n",
      "           1       0.68      0.56      0.61       629\n",
      "\n",
      "    accuracy                           0.79      2100\n",
      "   macro avg       0.75      0.72      0.73      2100\n",
      "weighted avg       0.78      0.79      0.78      2100\n",
      "\n",
      "B--Classification report for Test Dataset for Hypertuned modal \n",
      "               precision    recall  f1-score   support\n",
      "\n",
      "           0       0.78      0.91      0.84       605\n",
      "           1       0.72      0.46      0.56       295\n",
      "\n",
      "    accuracy                           0.77       900\n",
      "   macro avg       0.75      0.69      0.70       900\n",
      "weighted avg       0.76      0.77      0.75       900\n",
      "\n"
     ]
    }
   ],
   "source": [
    "print(\"A--Classification report for Train Dataset for Hypertuned modal\",\"\\n\",classification_report(y_train,ytrain_predict))\n",
    "print(\"B--Classification report for Test Dataset for Hypertuned modal\",\"\\n\",classification_report(y_test,ytest_predict))"
   ]
  },
  {
   "cell_type": "code",
   "execution_count": 160,
   "metadata": {
    "ExecuteTime": {
     "end_time": "2021-01-20T14:45:17.789881Z",
     "start_time": "2021-01-20T14:45:17.488798Z"
    },
    "colab": {},
    "colab_type": "code",
    "id": "ZOJjRyegpXC7",
    "outputId": "e9eacc08-1209-440e-8ee0-2c8379166e03"
   },
   "outputs": [
    {
     "data": {
      "image/png": "[encoded data removed]",
      "text/plain": [
       "<Figure size 432x288 with 1 Axes>"
      ]
     },
     "metadata": {},
     "output_type": "display_data"
    },
    {
     "name": "stdout",
     "output_type": "stream",
     "text": [
      "Area under Curve is 0.8134668721109399\n"
     ]
    }
   ],
   "source": [
    "#from sklearn.metrics import roc_curve,roc_auc_score\n",
    "rf_fpr, rf_tpr,_=roc_curve(y_test,best_grid.predict_proba(x_test)[:,1])\n",
    "plt.plot(rf_fpr,rf_tpr, marker='x', label='NN')\n",
    "plt.plot(np.arange(0,1.1,0.1),np.arange(0,1.1,0.1))\n",
    "plt.xlabel('False Positive Rate')\n",
    "plt.ylabel('True Positive Rate')\n",
    "plt.title('ROC -Test Data Predictions-ANN')\n",
    "plt.show()\n",
    "print('Area under Curve is', roc_auc_score(y_test,best_grid.predict_proba(x_test)[:,1]))"
   ]
  },
  {
   "cell_type": "markdown",
   "metadata": {
    "colab_type": "text",
    "id": "zzWtOHj_pXDB"
   },
   "source": [
    "# Conclusion"
   ]
  },
  {
   "attachments": {},
   "cell_type": "markdown",
   "metadata": {
    "colab_type": "text",
    "id": "ymao58OupXDE"
   },
   "source": [
    "* Neural Network Train set\tNeural Network Test set\n",
    "\n",
    "**Accuracy     \t0.79\t      0.77\n",
    "\n",
    "**AUC         \t0.84\t      0.82\n",
    "\n",
    "**Recall\t        0.56\t      0.46\n",
    "\n",
    "**Precision\t    0.68\t      0.72\n",
    "\n",
    "**F1 Score\t    0.61\t      0.56\n",
    "\n",
    "\n",
    "\n",
    "Accuracy on the training data is 79% and on test data is 77%. The precision and recall metrics are also almost similar between training and test set, which indicates no overfitting or underfitting has happened. \n",
    "  \n",
    "best_grid model has better improved performance over the initial clf model as the sensitivity was much lesser in the initial model.\n"
   ]
  },
  {
   "cell_type": "markdown",
   "metadata": {},
   "source": [
    "# <B> 2.4 Final Model: Compare all the model and write an inference which model is best/optimized."
   ]
  },
  {
   "cell_type": "markdown",
   "metadata": {},
   "source": [
    "<b>By analyzing all the Models we made a table of varous parameters as below"
   ]
  },
  {
   "attachments": {
    "FINAL%20MODAL%20TABLE.PNG": {
     "image/png": "[encoded data removed]"
    }
   },
   "cell_type": "markdown",
   "metadata": {},
   "source": [
    "![FINAL%20MODAL%20TABLE.PNG](attachment:FINAL%20MODAL%20TABLE.PNG)"
   ]
  },
  {
   "cell_type": "markdown",
   "metadata": {},
   "source": [
    "<b>As we can see that in all the models Train and Test results are almost similar but we have to compare all the Models and find out the best model among all.\n",
    "\n",
    "Having a Glance on the table we can noticed Green Colour for Random Forest Model which shows that Train and test set results are high among all the models so can Conclude that Random forest model is best/optimized Model.\n",
    "\n",
    "Neural network Model have given better results but their results are lesser optimized in comparison to Random Forest Model. Thus this model is medium performed model.\n",
    "\n",
    "As you can also see red marked in the report of CART test in which both Train and Test set results are Low as compared to all so this is Lowest Optimized Model.\n"
   ]
  },
  {
   "cell_type": "markdown",
   "metadata": {},
   "source": [
    "# 2.5 Inference: Based on the whole Analysis, what are the business insights and recommendations"
   ]
  },
  {
   "cell_type": "markdown",
   "metadata": {},
   "source": [
    "<b>By using Various Algorithms like  CART, Random Forest and Artificial Neural Networks we analysed the data and found that More data needs to be collected like there is no unique identifier present so we are unable to clearly distinguished the duplicates also we find out the data points which needs to be collected like Insurance Cost , their location of incident , How often they are travelling , What is  their income etc .\n",
    "\n",
    "Following are my Suggestions to Management \n",
    "\n",
    "• Since data set suggest that 90% of insurance done by online mode so we can increase their online experiences and also show the reviews about their insurance  for benefitted customers, this will increase the Confidence of customer which will increase the insurance sales and profit too. \n",
    "\n",
    "• we have found another interesting fact that more sales happen via Agency than Airlines and the trend shows the claim are processed more at Airline (See Box plot below. So have to find out why this is happening? \n",
    "\n",
    " \n",
    "\n",
    "\n",
    "\n",
    "\n",
    "• We need to talk with JZI & CWT agency to pick up sales as they Have lower sales (Refer Below figure) , We can also tell them to use Digital marketing tools to increase their reach to the customers .\n",
    "\n",
    " \n",
    "\n",
    "• Insurance Company can also increase their Insurance Portfolio by adding more insurance plans like health insurance , Corporate accidental Insurance etc to increase their revenue\n",
    "\n",
    "Below are the some  Key performance indicators (KPI) of insurance claims are: \n",
    "\tAverage Cost Per Claim\n",
    "    \n",
    "\tClaim Frequency\n",
    "    \n",
    "\tAverage Time to Settle a Claim\n",
    "    \n",
    "\tClaims Ratio\n",
    "    \n",
    "\tIncrease customer satisfaction \n",
    "\n",
    "Based on the above Insurance Company can make automated reporting process to senior officials of the company if a claim is pending from more than 1 week so that genuine claims can’t be neglected; this will Build the reputation of the company in the customer’s eye.\n"
   ]
  },
  {
   "cell_type": "markdown",
   "metadata": {},
   "source": []
  }
 ],
 "metadata": {
  "colab": {
   "collapsed_sections": [
    "4sn3arW5pW-1",
    "NsaVVH1OpW_E",
    "e6LxLkbHpW_P",
    "E4TYnz42pW_d",
    "XYVy9heBpXAE",
    "VRx9COdTpXAM",
    "CKE2A8STpXAW",
    "mei2G76epXAb",
    "9HCl5uOTpXAi",
    "6rwyrpSRpXBb",
    "BQiJJOVMpXB2"
   ],
   "name": "Neural Networks - Churn Prediction - Solution File.ipynb",
   "provenance": []
  },
  "kernelspec": {
   "display_name": "Python 3",
   "language": "python",
   "name": "python3"
  },
  "language_info": {
   "codemirror_mode": {
    "name": "ipython",
    "version": 3
   },
   "file_extension": ".py",
   "mimetype": "text/x-python",
   "name": "python",
   "nbconvert_exporter": "python",
   "pygments_lexer": "ipython3",
   "version": "3.8.3"
  },
  "latex_envs": {
   "LaTeX_envs_menu_present": true,
   "autoclose": true,
   "autocomplete": true,
   "bibliofile": "biblio.bib",
   "cite_by": "apalike",
   "current_citInitial": 1,
   "eqLabelWithNumbers": true,
   "eqNumInitial": 1,
   "hotkeys": {
    "equation": "Ctrl-E",
    "itemize": "Ctrl-I"
   },
   "labels_anchors": false,
   "latex_user_defs": false,
   "report_style_numbering": false,
   "user_envs_cfg": false
  },
  "toc": {
   "base_numbering": 1,
   "nav_menu": {},
   "number_sections": true,
   "sideBar": false,
   "skip_h1_title": false,
   "title_cell": "Table of Contents",
   "title_sidebar": "Contents",
   "toc_cell": false,
   "toc_position": {
    "height": "47.4432px",
    "left": "186px",
    "top": "91.455px",
    "width": "212px"
   },
   "toc_section_display": true,
   "toc_window_display": false
  },
  "varInspector": {
   "cols": {
    "lenName": 16,
    "lenType": 16,
    "lenVar": 40
   },
   "kernels_config": {
    "python": {
     "delete_cmd_postfix": "",
     "delete_cmd_prefix": "del ",
     "library": "var_list.py",
     "varRefreshCmd": "print(var_dic_list())"
    },
    "r": {
     "delete_cmd_postfix": ") ",
     "delete_cmd_prefix": "rm(",
     "library": "var_list.r",
     "varRefreshCmd": "cat(var_dic_list()) "
    }
   },
   "types_to_exclude": [
    "module",
    "function",
    "builtin_function_or_method",
    "instance",
    "_Feature"
   ],
   "window_display": false
  }
 },
 "nbformat": 4,
 "nbformat_minor": 4
}
